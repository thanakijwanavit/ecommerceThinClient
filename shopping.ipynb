{
 "cells": [
  {
   "cell_type": "code",
   "execution_count": 1,
   "metadata": {},
   "outputs": [],
   "source": [
    "# default_exp shopping"
   ]
  },
  {
   "cell_type": "code",
   "execution_count": 2,
   "metadata": {},
   "outputs": [
    {
     "data": {
      "text/plain": [
       "['/home/ec2-user/SageMaker/stacks/villaEcommerceBackend/backend/thinClient',\n",
       " '/home/ec2-user/SageMaker/.persisted_conda/python38/lib/python38.zip',\n",
       " '/home/ec2-user/SageMaker/.persisted_conda/python38/lib/python3.8',\n",
       " '/home/ec2-user/SageMaker/.persisted_conda/python38/lib/python3.8/lib-dynload',\n",
       " '',\n",
       " '/home/ec2-user/SageMaker/.persisted_conda/python38/lib/python3.8/site-packages',\n",
       " '/home/ec2-user/SageMaker/.persisted_conda/python38/lib/python3.8/site-packages/IPython/extensions',\n",
       " '/home/ec2-user/.ipython']"
      ]
     },
     "execution_count": 2,
     "metadata": {},
     "output_type": "execute_result"
    }
   ],
   "source": [
    "import sys\n",
    "sys.path"
   ]
  },
  {
   "cell_type": "markdown",
   "metadata": {},
   "source": [
    "# Shopping\n",
    "simulates shopping with python code. \n",
    "this is designed to test the backend and allow conversion to frontend"
   ]
  },
  {
   "cell_type": "code",
   "execution_count": 3,
   "metadata": {},
   "outputs": [],
   "source": [
    "#export\n",
    "from villaProductSdk.products import ProductSdk\n",
    "from villaBackendSdk.basket import BasketSdk\n",
    "from awsSchema.apigateway import Response, Event\n",
    "from nicHelper.wrappers import add_class_method, add_method, add_static_method\n",
    "from typing import List\n",
    "from s3bz.s3bz import S3\n",
    "import json\n",
    "from requests import post, get\n",
    "import pandas as pd\n",
    "import requests\n",
    "from PIL import Image\n",
    "from io import BytesIO"
   ]
  },
  {
   "cell_type": "markdown",
   "metadata": {},
   "source": [
    "## browsing Items"
   ]
  },
  {
   "cell_type": "code",
   "execution_count": 4,
   "metadata": {},
   "outputs": [],
   "source": [
    "class Browser:\n",
    "  def __init__(\n",
    "    self, \n",
    "    searchEndpoint = 'https://8av9li9v82.execute-api.ap-southeast-1.amazonaws.com/Prod/orismaSearch/',\n",
    "    branch = 'dev-manual'\n",
    "    ):\n",
    "    self.searchEndpoint = searchEndpoint\n",
    "    self.productSdk = ProductSdk(branch = branch)\n",
    "    "
   ]
  },
  {
   "cell_type": "code",
   "execution_count": 5,
   "metadata": {},
   "outputs": [],
   "source": [
    "browser = Browser()"
   ]
  },
  {
   "cell_type": "markdown",
   "metadata": {},
   "source": [
    "### Search for items"
   ]
  },
  {
   "cell_type": "code",
   "execution_count": 6,
   "metadata": {},
   "outputs": [],
   "source": [
    "@add_method(Browser)\n",
    "def search(self, searchQuery:str)-> List[str]:\n",
    "  endpoint = self.searchEndpoint\n",
    "  queries = {\n",
    "    'data_t3':searchQuery\n",
    "  }\n",
    "  response = get(endpoint, params=queries)\n",
    "  result = response.json()\n",
    "  try:\n",
    "    resultList = pd.DataFrame(result)['pr_code'].to_list()\n",
    "  except:\n",
    "    print(result)\n",
    "  return resultList"
   ]
  },
  {
   "cell_type": "code",
   "execution_count": 21,
   "metadata": {},
   "outputs": [
    {
     "name": "stdout",
     "output_type": "stream",
     "text": [
      "CPU times: user 15 ms, sys: 326 µs, total: 15.3 ms\n",
      "Wall time: 1.1 s\n"
     ]
    },
    {
     "data": {
      "text/plain": [
       "['0193215',\n",
       " '0205723',\n",
       " '0177284',\n",
       " '0158034',\n",
       " '0214013',\n",
       " '0176563',\n",
       " '0139027',\n",
       " '0230898',\n",
       " '0175742',\n",
       " '0171289']"
      ]
     },
     "execution_count": 21,
     "metadata": {},
     "output_type": "execute_result"
    }
   ],
   "source": [
    "%%time\n",
    "resultList = browser.search('rose')\n",
    "resultList[:10]"
   ]
  },
  {
   "cell_type": "markdown",
   "metadata": {},
   "source": [
    "### get info for searched item"
   ]
  },
  {
   "cell_type": "code",
   "execution_count": 22,
   "metadata": {},
   "outputs": [],
   "source": [
    "@add_method(Browser)\n",
    "def getProductInfo(self,products:list)->(List[dict],List[dict]):\n",
    "#   products = []\n",
    "#   errors = []\n",
    "  items=self.productSdk.queryList(products)\n",
    "#   for result in resultList:\n",
    "#     if (item := self.productSdk.(result)).get('error'):\n",
    "#       products.append(item)\n",
    "#     else:\n",
    "#       errors.append(result)\n",
    "  print(f'found {len(items)} products out of {len(products)} products')\n",
    "  return items"
   ]
  },
  {
   "cell_type": "code",
   "execution_count": 23,
   "metadata": {},
   "outputs": [
    {
     "name": "stdout",
     "output_type": "stream",
     "text": [
      "found 225 products out of 335 products\n",
      "CPU times: user 14.5 ms, sys: 4.4 ms, total: 18.9 ms\n",
      "Wall time: 4.19 s\n"
     ]
    },
    {
     "data": {
      "text/plain": [
       "{'0193215': {'iprcode': '0193215',\n",
       "  'cprcode': '0193215',\n",
       "  'oprcode': '0193215',\n",
       "  'ordertype': 'Y',\n",
       "  'pr_abb': 'ROSE SEESENCE BONBON',\n",
       "  'pr_active': 'Y',\n",
       "  'pr_cgcode': '15',\n",
       "  'pr_code': '0193215',\n",
       "  'pr_dpcode': '19',\n",
       "  'pr_engname': 'ROSE SEESENCE BONBON',\n",
       "  'pr_ggcode': '195',\n",
       "  'pr_market': 'บอล บอล กลิ่นกุหลาบ',\n",
       "  'pr_name': 'บอล บอล กลิ่นกุหลาบ',\n",
       "  'pr_puqty': '1.00',\n",
       "  'pr_sa_method': '1',\n",
       "  'pr_sucode1': 'CM1260',\n",
       "  'pr_suref3': 'A',\n",
       "  'prtype': 'I',\n",
       "  'psqty': '1',\n",
       "  'pstype': '1',\n",
       "  'pr_country_th': '',\n",
       "  'pr_country_en': 'Thailand',\n",
       "  'pr_keyword_th': '',\n",
       "  'pr_keyword_en': '',\n",
       "  'pr_filter_th': '',\n",
       "  'pr_filter_en': '',\n",
       "  'online_category_l1_th': '',\n",
       "  'online_category_l1_en': '',\n",
       "  'online_category_l2_th': '',\n",
       "  'online_category_l2_en': '',\n",
       "  'online_category_l3_th': '',\n",
       "  'online_category_l3_en': '',\n",
       "  'villa_category_l1_en': 'Fresh',\n",
       "  'villa_category_l2_en': 'Fresh Produce',\n",
       "  'villa_category_l3_en': 'Bakery',\n",
       "  'villa_category_l4_en': 'Cake category',\n",
       "  'content_en': '0193215 ROSE SEESENCE BONBON',\n",
       "  'content_th': 'ROSE SEESENCE BONBON',\n",
       "  'hema_brand_th': '',\n",
       "  'hema_brand_en': '',\n",
       "  'hema_sizedesc': '',\n",
       "  'pr_brand_en': '',\n",
       "  'pr_brand_th': '',\n",
       "  'pr_online_name_en': 'ROSE SEESENCE BONBON',\n",
       "  'pr_online_name_th': 'ROSE SEESENCE BONBON',\n",
       "  'hema_name_en': 'ROSE SEESENCE BONBON',\n",
       "  'hema_name_th': 'ROSE SEESENCE BONBON',\n",
       "  'pr_name_en': 'ROSE SEESENCE BONBON',\n",
       "  'pr_name_th': 'บอล บอล กลิ่นกุหลาบ',\n",
       "  'pr_barcode': '21932151',\n",
       "  'pr_barcode2': '2193215',\n",
       "  'sort_weight': '0'}}"
      ]
     },
     "execution_count": 23,
     "metadata": {},
     "output_type": "execute_result"
    }
   ],
   "source": [
    "%%time\n",
    "products = browser.getProductInfo(resultList)\n",
    "products[0]"
   ]
  },
  {
   "cell_type": "code",
   "execution_count": null,
   "metadata": {},
   "outputs": [],
   "source": [
    "@add_method(Browser)\n",
    "def getLargeImage(self, sku:str)->Image:\n",
    "  url = 'http://d19oj5aeuefgv.cloudfront.net'\n",
    "  return Image.open(BytesIO(requests.get(f'{url}/{sku}').content),formats=['PNG'])"
   ]
  },
  {
   "cell_type": "code",
   "execution_count": null,
   "metadata": {},
   "outputs": [],
   "source": [
    "%%time\n",
    "sku = '0189194'\n",
    "browser.getLargeImage(sku)\n",
    "# get image\n"
   ]
  },
  {
   "cell_type": "code",
   "execution_count": null,
   "metadata": {},
   "outputs": [],
   "source": [
    "@add_method(Browser)\n",
    "def getSmallImage(self, sku:str)->Image:\n",
    "  url = 'https://d1vl5j0v241n75.cloudfront.net'\n",
    "  return Image.open(BytesIO(requests.get(f'{url}/{sku}').content),formats=['PNG'])"
   ]
  },
  {
   "cell_type": "code",
   "execution_count": null,
   "metadata": {},
   "outputs": [],
   "source": [
    "%%time\n",
    "browser.getSmallImage(sku)\n",
    "##small Image"
   ]
  },
  {
   "cell_type": "code",
   "execution_count": null,
   "metadata": {},
   "outputs": [],
   "source": []
  }
 ],
 "metadata": {
  "kernelspec": {
   "display_name": "python38",
   "language": "python",
   "name": "python38"
  },
  "language_info": {
   "codemirror_mode": {
    "name": "ipython",
    "version": 3
   },
   "file_extension": ".py",
   "mimetype": "text/x-python",
   "name": "python",
   "nbconvert_exporter": "python",
   "pygments_lexer": "ipython3",
   "version": "3.8.6"
  }
 },
 "nbformat": 4,
 "nbformat_minor": 4
}
