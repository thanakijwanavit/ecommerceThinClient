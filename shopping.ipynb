{
 "cells": [
  {
   "cell_type": "code",
   "execution_count": 1,
   "metadata": {},
   "outputs": [],
   "source": [
    "# default_exp shopping"
   ]
  },
  {
   "cell_type": "code",
   "execution_count": 2,
   "metadata": {},
   "outputs": [
    {
     "data": {
      "text/plain": [
       "['/home/ec2-user/SageMaker/stacks/villaEcommerceBackend/backend/thinClient',\n",
       " '/home/ec2-user/SageMaker/.persisted_conda/python38/lib/python38.zip',\n",
       " '/home/ec2-user/SageMaker/.persisted_conda/python38/lib/python3.8',\n",
       " '/home/ec2-user/SageMaker/.persisted_conda/python38/lib/python3.8/lib-dynload',\n",
       " '',\n",
       " '/home/ec2-user/SageMaker/.persisted_conda/python38/lib/python3.8/site-packages',\n",
       " '/home/ec2-user/SageMaker/.persisted_conda/python38/lib/python3.8/site-packages/IPython/extensions',\n",
       " '/home/ec2-user/.ipython']"
      ]
     },
     "execution_count": 2,
     "metadata": {},
     "output_type": "execute_result"
    }
   ],
   "source": [
    "import sys\n",
    "sys.path"
   ]
  },
  {
   "cell_type": "markdown",
   "metadata": {},
   "source": [
    "# Shopping\n",
    "simulates shopping with python code. \n",
    "this is designed to test the backend and allow conversion to frontend"
   ]
  },
  {
   "cell_type": "code",
   "execution_count": 76,
   "metadata": {},
   "outputs": [],
   "source": [
    "#export\n",
    "from villaProductSdk.products import ProductSdk\n",
    "from villaBackendSdk.basket import BasketSdk\n",
    "from dataclasses_json import dataclass_json \n",
    "from dataclasses import dataclass, field\n",
    "from awsSchema.apigateway import Response, Event\n",
    "from nicHelper.wrappers import add_class_method, add_method, add_static_method\n",
    "from typing import List, Optional\n",
    "from s3bz.s3bz import S3\n",
    "import json\n",
    "from requests import post, get\n",
    "import pandas as pd\n",
    "import requests\n",
    "from requests import post\n",
    "from PIL import Image\n",
    "from io import BytesIO"
   ]
  },
  {
   "cell_type": "markdown",
   "metadata": {},
   "source": [
    "## browsing Items"
   ]
  },
  {
   "cell_type": "code",
   "execution_count": 4,
   "metadata": {},
   "outputs": [],
   "source": [
    "#export\n",
    "class Basket:\n",
    "  def __init__(self, basketId = ''):\n",
    "    self.basketId = basketId\n",
    "  def setBasketId(self, basketId):\n",
    "    self.basketId = basketId\n",
    "class Order:\n",
    "  def __init__(self, orderId = ''):\n",
    "    self.orderId = orderId\n",
    "  def setOrderId (self, orderId):\n",
    "    self.orderId = orderId\n",
    "class Browser:\n",
    "  def __init__(\n",
    "    self, \n",
    "    searchEndpoint = 'https://8av9li9v82.execute-api.ap-southeast-1.amazonaws.com/Prod/orismaSearch/',\n",
    "    branch = 'dev-manual',\n",
    "    basketId = '',\n",
    "    orderId = ''\n",
    "    ):\n",
    "    self.searchEndpoint = searchEndpoint\n",
    "    self.productSdk = ProductSdk(branch = branch)\n",
    "    self.Basket = Basket\n",
    "    self.basket = Basket()\n",
    "    self.Order = Order\n",
    "    self.order = Order(orderId)\n",
    "    \n"
   ]
  },
  {
   "cell_type": "code",
   "execution_count": 5,
   "metadata": {},
   "outputs": [],
   "source": [
    "browser = Browser()"
   ]
  },
  {
   "cell_type": "code",
   "execution_count": 128,
   "metadata": {},
   "outputs": [],
   "source": [
    "@add_method(Browser)\n",
    "def search(self, searchQuery:str)-> List[str]:\n",
    "  endpoint = self.searchEndpoint\n",
    "  queries = {\n",
    "    'data_t3':searchQuery\n",
    "  }\n",
    "  response = get(endpoint, params=queries)\n",
    "  result = response.json()\n",
    "  try:\n",
    "    resultList = pd.DataFrame(result)['pr_code'].to_list()\n",
    "  except:\n",
    "    print(result)\n",
    "  return resultList"
   ]
  },
  {
   "cell_type": "code",
   "execution_count": 129,
   "metadata": {},
   "outputs": [
    {
     "name": "stdout",
     "output_type": "stream",
     "text": [
      "CPU times: user 15.3 ms, sys: 0 ns, total: 15.3 ms\n",
      "Wall time: 1.12 s\n"
     ]
    },
    {
     "data": {
      "text/plain": [
       "['0193215',\n",
       " '0205723',\n",
       " '0177284',\n",
       " '0158034',\n",
       " '0214013',\n",
       " '0176563',\n",
       " '0139027',\n",
       " '0230898',\n",
       " '0175742',\n",
       " '0171289']"
      ]
     },
     "execution_count": 129,
     "metadata": {},
     "output_type": "execute_result"
    }
   ],
   "source": [
    "%%time\n",
    "resultList = browser.search('rose')\n",
    "resultList[:10]"
   ]
  },
  {
   "cell_type": "markdown",
   "metadata": {
    "toc-hr-collapsed": true,
    "toc-nb-collapsed": true
   },
   "source": [
    "### Search for items"
   ]
  },
  {
   "cell_type": "code",
   "execution_count": null,
   "metadata": {},
   "outputs": [],
   "source": []
  },
  {
   "cell_type": "code",
   "execution_count": null,
   "metadata": {},
   "outputs": [],
   "source": [
    "@add_method(Browser)\n",
    "def search(self, searchQuery:str)-> List[str]:\n",
    "  endpoint = self.searchEndpoint\n",
    "  queries = {\n",
    "    'data_t3':searchQuery\n",
    "  }\n",
    "  response = get(endpoint, params=queries)\n",
    "  result = response.json()\n",
    "  try:\n",
    "    resultList = pd.DataFrame(result)['pr_code'].to_list()\n",
    "  except:\n",
    "    print(result)\n",
    "  return resultList"
   ]
  },
  {
   "cell_type": "code",
   "execution_count": null,
   "metadata": {},
   "outputs": [],
   "source": []
  },
  {
   "cell_type": "code",
   "execution_count": null,
   "metadata": {},
   "outputs": [],
   "source": []
  },
  {
   "cell_type": "code",
   "execution_count": 6,
   "metadata": {},
   "outputs": [],
   "source": [
    "#export\n",
    "@add_method(Browser)\n",
    "def search(self, searchQuery:str)-> List[str]:\n",
    "  endpoint = self.searchEndpoint\n",
    "  queries = {\n",
    "    'data_t3':searchQuery\n",
    "  }\n",
    "  response = get(endpoint, params=queries)\n",
    "  result = response.json()\n",
    "  try:\n",
    "    resultList = pd.DataFrame(result)['pr_code'].to_list()\n",
    "  except:\n",
    "    print(result)\n",
    "    if result == []: print('didnt find any result')\n",
    "    return result\n",
    "  return resultList"
   ]
  },
  {
   "cell_type": "code",
   "execution_count": 7,
   "metadata": {},
   "outputs": [
    {
     "name": "stdout",
     "output_type": "stream",
     "text": [
      "CPU times: user 15.7 ms, sys: 3.14 ms, total: 18.9 ms\n",
      "Wall time: 4.5 s\n"
     ]
    },
    {
     "data": {
      "text/plain": [
       "['0224647',\n",
       " '0227251',\n",
       " '0220773',\n",
       " '0220774',\n",
       " '0227293',\n",
       " '0226773',\n",
       " '0224645',\n",
       " '0226772',\n",
       " '0224646',\n",
       " '0221386']"
      ]
     },
     "execution_count": 7,
     "metadata": {},
     "output_type": "execute_result"
    }
   ],
   "source": [
    "%%time\n",
    "resultList = browser.search('pork')\n",
    "resultList[:10]"
   ]
  },
  {
   "cell_type": "markdown",
   "metadata": {},
   "source": [
    "### get info for searched item"
   ]
  },
  {
   "cell_type": "code",
   "execution_count": 8,
   "metadata": {},
   "outputs": [],
   "source": [
    "@add_method(Browser)\n",
    "def getProductInfo(self,products:list)->(List[dict],List[dict]):\n",
    "#   products = []\n",
    "#   errors = []\n",
    "  items=self.productSdk.queryList(products)\n",
    "#   for result in resultList:\n",
    "#     if (item := self.productSdk.(result)).get('error'):\n",
    "#       products.append(item)\n",
    "#     else:\n",
    "#       errors.append(result)\n",
    "  print(f'found {len(items)} products out of {len(products)} products')\n",
    "  return items"
   ]
  },
  {
   "cell_type": "code",
   "execution_count": 9,
   "metadata": {},
   "outputs": [
    {
     "name": "stdout",
     "output_type": "stream",
     "text": [
      "found 555 products out of 781 products\n",
      "CPU times: user 28.5 ms, sys: 19.3 ms, total: 47.8 ms\n",
      "Wall time: 3.73 s\n",
      "CPU times: user 9.87 ms, sys: 0 ns, total: 9.87 ms\n",
      "Wall time: 9.89 ms\n",
      "(555, 52)\n"
     ]
    },
    {
     "data": {
      "text/html": [
       "<div>\n",
       "<style scoped>\n",
       "    .dataframe tbody tr th:only-of-type {\n",
       "        vertical-align: middle;\n",
       "    }\n",
       "\n",
       "    .dataframe tbody tr th {\n",
       "        vertical-align: top;\n",
       "    }\n",
       "\n",
       "    .dataframe thead th {\n",
       "        text-align: right;\n",
       "    }\n",
       "</style>\n",
       "<table border=\"1\" class=\"dataframe\">\n",
       "  <thead>\n",
       "    <tr style=\"text-align: right;\">\n",
       "      <th></th>\n",
       "      <th>cprcode</th>\n",
       "      <th>iprcode</th>\n",
       "      <th>oprcode</th>\n",
       "      <th>ordertype</th>\n",
       "      <th>pr_abb</th>\n",
       "      <th>pr_active</th>\n",
       "      <th>pr_cgcode</th>\n",
       "      <th>pr_code</th>\n",
       "      <th>pr_dpcode</th>\n",
       "      <th>pr_engname</th>\n",
       "      <th>...</th>\n",
       "      <th>pr_brand_th</th>\n",
       "      <th>pr_online_name_en</th>\n",
       "      <th>pr_online_name_th</th>\n",
       "      <th>hema_name_en</th>\n",
       "      <th>hema_name_th</th>\n",
       "      <th>pr_name_en</th>\n",
       "      <th>pr_name_th</th>\n",
       "      <th>pr_barcode</th>\n",
       "      <th>pr_barcode2</th>\n",
       "      <th>sort_weight</th>\n",
       "    </tr>\n",
       "  </thead>\n",
       "  <tbody>\n",
       "    <tr>\n",
       "      <th>0</th>\n",
       "      <td>0060272</td>\n",
       "      <td>0060272</td>\n",
       "      <td>0060272</td>\n",
       "      <td>Y</td>\n",
       "      <td>S-PURE  PORK LIVER</td>\n",
       "      <td>Y</td>\n",
       "      <td>08</td>\n",
       "      <td>0060272</td>\n",
       "      <td>27</td>\n",
       "      <td>S-PURE  PORK LIVER</td>\n",
       "      <td>...</td>\n",
       "      <td>S-pure</td>\n",
       "      <td>S-Pure Pork Liver</td>\n",
       "      <td>S-PURE ตับหมู</td>\n",
       "      <td>S-Pure Pork Liver</td>\n",
       "      <td>S-PURE ตับหมู</td>\n",
       "      <td>S-PURE  PORK LIVER</td>\n",
       "      <td>S-PURE ตับหมู 2 กก/ถุง</td>\n",
       "      <td>2602723</td>\n",
       "      <td>260272</td>\n",
       "      <td>0</td>\n",
       "    </tr>\n",
       "    <tr>\n",
       "      <th>1</th>\n",
       "      <td>0031270</td>\n",
       "      <td>0031270</td>\n",
       "      <td>0031270</td>\n",
       "      <td>Y</td>\n",
       "      <td>S.KHON KAEN DRIED PO</td>\n",
       "      <td>Y</td>\n",
       "      <td>80</td>\n",
       "      <td>0031270</td>\n",
       "      <td>21</td>\n",
       "      <td>S.KHON KAEN DRIED PORK 200 G.</td>\n",
       "      <td>...</td>\n",
       "      <td>S. KHON KAEN</td>\n",
       "      <td>S.khon Kaen Dried Pork 220g.</td>\n",
       "      <td>S.KHON KAEN หมูสวรรค์อบ 220 G.</td>\n",
       "      <td>S.khon Kaen Dried Pork 220g.</td>\n",
       "      <td>S.KHON KAEN หมูสวรรค์อบ 220 G.</td>\n",
       "      <td>S.KHON KAEN DRIED PORK 200 G.</td>\n",
       "      <td>S.KHON KAEN หมูสวรรค์อบ 200 G</td>\n",
       "      <td>None</td>\n",
       "      <td>None</td>\n",
       "      <td>0</td>\n",
       "    </tr>\n",
       "    <tr>\n",
       "      <th>2</th>\n",
       "      <td>0112059</td>\n",
       "      <td>0112059</td>\n",
       "      <td>0112059</td>\n",
       "      <td>Y</td>\n",
       "      <td>S-PURE PORK COLLAR S</td>\n",
       "      <td>Y</td>\n",
       "      <td>08</td>\n",
       "      <td>0112059</td>\n",
       "      <td>27</td>\n",
       "      <td>S-PURE PORK COLLAR SLICED  SHABU</td>\n",
       "      <td>...</td>\n",
       "      <td>S-pure</td>\n",
       "      <td>S-pure Pork Shoulder for Shabu Shabu 1pk</td>\n",
       "      <td>S-PURE PORK SHOULDER SHABUSHABU</td>\n",
       "      <td>S-pure Pork Shoulder for Shabu Shabu 1pk</td>\n",
       "      <td>S-PURE PORK SHOULDER SHABUSHABU</td>\n",
       "      <td>S-PURE PORK SHOULDER SHABUSHABU</td>\n",
       "      <td>S-PURE ไหล่สไลด์ชาบู</td>\n",
       "      <td>2018094</td>\n",
       "      <td>201809</td>\n",
       "      <td>0</td>\n",
       "    </tr>\n",
       "    <tr>\n",
       "      <th>3</th>\n",
       "      <td>0026157</td>\n",
       "      <td>0026157</td>\n",
       "      <td>0026157</td>\n",
       "      <td>Y</td>\n",
       "      <td>S.KHON KAEN SHREDDED</td>\n",
       "      <td>Y</td>\n",
       "      <td>80</td>\n",
       "      <td>0026157</td>\n",
       "      <td>21</td>\n",
       "      <td>S.KHON KAEN SHREDDED PORK 100 G.</td>\n",
       "      <td>...</td>\n",
       "      <td>S. KHON KAEN</td>\n",
       "      <td>S Khon Kaen Shredded Pork 100g</td>\n",
       "      <td>S.KHON KAEN หมูหยองกรอบ 100 G.</td>\n",
       "      <td>S Khon Kaen Shredded Pork 100g</td>\n",
       "      <td>S.KHON KAEN หมูหยองกรอบ 100 G.</td>\n",
       "      <td>S.KHON KAEN SHREDDED PORK 100 G.</td>\n",
       "      <td>S.KHON KAEN หมูหยองกรอบ 100 G.</td>\n",
       "      <td>None</td>\n",
       "      <td>None</td>\n",
       "      <td>0</td>\n",
       "    </tr>\n",
       "    <tr>\n",
       "      <th>4</th>\n",
       "      <td>0098121</td>\n",
       "      <td>0098121</td>\n",
       "      <td>0098121</td>\n",
       "      <td>Y</td>\n",
       "      <td>HEINZ BAKED BEANZ &amp;</td>\n",
       "      <td>Y</td>\n",
       "      <td>81</td>\n",
       "      <td>0098121</td>\n",
       "      <td>28</td>\n",
       "      <td>HEINZ BAKED BEANZ &amp; PORK SAUSAGES 415G</td>\n",
       "      <td>...</td>\n",
       "      <td></td>\n",
       "      <td>Heinz  Baked Beans &amp; Pork Sausages 415g</td>\n",
       "      <td>Heinz  Baked Beans &amp; Pork Sausages 415g</td>\n",
       "      <td>Baked Beans &amp; Pork Sausages</td>\n",
       "      <td>Baked Beans &amp; Pork Sausages</td>\n",
       "      <td>HEINZ BAKED BEANZ &amp; PORK SAUSAGES 415G</td>\n",
       "      <td>HEINZ BAKED BEANZ &amp; PORK SAUSAGES 415G</td>\n",
       "      <td>5000157025272</td>\n",
       "      <td>500015702527</td>\n",
       "      <td>0</td>\n",
       "    </tr>\n",
       "  </tbody>\n",
       "</table>\n",
       "<p>5 rows × 52 columns</p>\n",
       "</div>"
      ],
      "text/plain": [
       "   cprcode  iprcode  oprcode ordertype                pr_abb pr_active  \\\n",
       "0  0060272  0060272  0060272         Y    S-PURE  PORK LIVER         Y   \n",
       "1  0031270  0031270  0031270         Y  S.KHON KAEN DRIED PO         Y   \n",
       "2  0112059  0112059  0112059         Y  S-PURE PORK COLLAR S         Y   \n",
       "3  0026157  0026157  0026157         Y  S.KHON KAEN SHREDDED         Y   \n",
       "4  0098121  0098121  0098121         Y   HEINZ BAKED BEANZ &         Y   \n",
       "\n",
       "  pr_cgcode  pr_code pr_dpcode                              pr_engname  ...  \\\n",
       "0        08  0060272        27                      S-PURE  PORK LIVER  ...   \n",
       "1        80  0031270        21           S.KHON KAEN DRIED PORK 200 G.  ...   \n",
       "2        08  0112059        27        S-PURE PORK COLLAR SLICED  SHABU  ...   \n",
       "3        80  0026157        21        S.KHON KAEN SHREDDED PORK 100 G.  ...   \n",
       "4        81  0098121        28  HEINZ BAKED BEANZ & PORK SAUSAGES 415G  ...   \n",
       "\n",
       "    pr_brand_th                         pr_online_name_en  \\\n",
       "0        S-pure                         S-Pure Pork Liver   \n",
       "1  S. KHON KAEN              S.khon Kaen Dried Pork 220g.   \n",
       "2        S-pure  S-pure Pork Shoulder for Shabu Shabu 1pk   \n",
       "3  S. KHON KAEN            S Khon Kaen Shredded Pork 100g   \n",
       "4                 Heinz  Baked Beans & Pork Sausages 415g   \n",
       "\n",
       "                         pr_online_name_th  \\\n",
       "0                            S-PURE ตับหมู   \n",
       "1           S.KHON KAEN หมูสวรรค์อบ 220 G.   \n",
       "2          S-PURE PORK SHOULDER SHABUSHABU   \n",
       "3           S.KHON KAEN หมูหยองกรอบ 100 G.   \n",
       "4  Heinz  Baked Beans & Pork Sausages 415g   \n",
       "\n",
       "                               hema_name_en                     hema_name_th  \\\n",
       "0                         S-Pure Pork Liver                    S-PURE ตับหมู   \n",
       "1              S.khon Kaen Dried Pork 220g.   S.KHON KAEN หมูสวรรค์อบ 220 G.   \n",
       "2  S-pure Pork Shoulder for Shabu Shabu 1pk  S-PURE PORK SHOULDER SHABUSHABU   \n",
       "3            S Khon Kaen Shredded Pork 100g   S.KHON KAEN หมูหยองกรอบ 100 G.   \n",
       "4               Baked Beans & Pork Sausages      Baked Beans & Pork Sausages   \n",
       "\n",
       "                               pr_name_en  \\\n",
       "0                      S-PURE  PORK LIVER   \n",
       "1           S.KHON KAEN DRIED PORK 200 G.   \n",
       "2         S-PURE PORK SHOULDER SHABUSHABU   \n",
       "3        S.KHON KAEN SHREDDED PORK 100 G.   \n",
       "4  HEINZ BAKED BEANZ & PORK SAUSAGES 415G   \n",
       "\n",
       "                               pr_name_th     pr_barcode   pr_barcode2  \\\n",
       "0                  S-PURE ตับหมู 2 กก/ถุง        2602723        260272   \n",
       "1           S.KHON KAEN หมูสวรรค์อบ 200 G           None          None   \n",
       "2                    S-PURE ไหล่สไลด์ชาบู        2018094        201809   \n",
       "3          S.KHON KAEN หมูหยองกรอบ 100 G.           None          None   \n",
       "4  HEINZ BAKED BEANZ & PORK SAUSAGES 415G  5000157025272  500015702527   \n",
       "\n",
       "  sort_weight  \n",
       "0           0  \n",
       "1           0  \n",
       "2           0  \n",
       "3           0  \n",
       "4           0  \n",
       "\n",
       "[5 rows x 52 columns]"
      ]
     },
     "execution_count": 9,
     "metadata": {},
     "output_type": "execute_result"
    }
   ],
   "source": [
    "%time products = browser.getProductInfo(resultList)\n",
    "%time productsDf = pd.DataFrame(products)\n",
    "print(productsDf.shape)\n",
    "productsDf.head()"
   ]
  },
  {
   "cell_type": "markdown",
   "metadata": {},
   "source": [
    "## Basket"
   ]
  },
  {
   "cell_type": "code",
   "execution_count": 70,
   "metadata": {},
   "outputs": [],
   "source": [
    "#export\n",
    "## general functions\n",
    "basketRootUrl = 'https://ad3pw0tze2.execute-api.ap-southeast-1.amazonaws.com/Prod'\n",
    "basketEndpoints = lambda path: f'{basketRootUrl}/{path}'"
   ]
  },
  {
   "cell_type": "code",
   "execution_count": 71,
   "metadata": {},
   "outputs": [],
   "source": [
    "@add_class_method(Basket)\n",
    "def generalInvoke(cls, path:str, payload:dict, \n",
    "                  successHandler = lambda x: f'function successful {x}',\n",
    "                  failureHandler = lambda x: f'function failed due to {x}'):\n",
    "  r:requests.Response = post(url = basketEndpoints(path), json = payload)\n",
    "  responsePayload = r.json()\n",
    "  if r.status_code == 200:\n",
    "    print(successHandler(responsePayload))\n",
    "  else:\n",
    "    print(failureHandler(responsePayload))\n",
    "  return responsePayload"
   ]
  },
  {
   "cell_type": "markdown",
   "metadata": {},
   "source": [
    "### Create a new basket"
   ]
  },
  {
   "cell_type": "code",
   "execution_count": 80,
   "metadata": {},
   "outputs": [],
   "source": [
    "#export\n",
    "@dataclass_json\n",
    "@dataclass\n",
    "class Create:\n",
    "  basketId:str \n",
    "  basketName:str \n",
    "  ownerId:str\n",
    "  branchId:str\n",
    "@add_class_method(Basket)\n",
    "def createBasket(self, basketId, basketName, ownerId, branchId):\n",
    "  payload:dict = Create(basketId=basketId, basketName = basketName, ownerId=ownerId, branchId=branchId).to_dict()\n",
    "  return self.generalInvoke(path='create', payload=payload)\n"
   ]
  },
  {
   "cell_type": "code",
   "execution_count": 81,
   "metadata": {},
   "outputs": [
    {
     "name": "stdout",
     "output_type": "stream",
     "text": [
      "function successful {'error': 'bucketExist'}\n"
     ]
    },
    {
     "data": {
      "text/plain": [
       "{'error': 'bucketExist'}"
      ]
     },
     "execution_count": 81,
     "metadata": {},
     "output_type": "execute_result"
    }
   ],
   "source": [
    "data = {\n",
    "  'basketId': '0987654321',\n",
    "  'basketName': 'hello',\n",
    "  'ownerId': '1234',\n",
    "  'branchId': '123'\n",
    "}\n",
    "browser.basket.createBasket(**data)"
   ]
  },
  {
   "cell_type": "markdown",
   "metadata": {},
   "source": [
    "### add/remove products to basket\n",
    "to remove just put a negative addition"
   ]
  },
  {
   "cell_type": "code",
   "execution_count": 72,
   "metadata": {},
   "outputs": [],
   "source": [
    "#export\n",
    "@dataclass_json\n",
    "@dataclass\n",
    "class Item:\n",
    "  sku: str\n",
    "  quantity: int\n",
    "@dataclass_json\n",
    "@dataclass\n",
    "class Add:\n",
    "  basketId:str \n",
    "  items:List[Item]\n",
    "    \n",
    "@add_class_method(Basket)\n",
    "def addToBasket(self, basketId:str, items:List[Item]):\n",
    "  payload:dict = Add(basketId=basketId, items=items).to_dict()\n",
    "  return self.generalInvoke(path='add', payload=payload)\n"
   ]
  },
  {
   "cell_type": "code",
   "execution_count": 73,
   "metadata": {},
   "outputs": [
    {
     "name": "stdout",
     "output_type": "stream",
     "text": [
      "function successful {'basketId': '0987654321', 'creationTime': 1608824784.046022, 'basketName': 'hello', 'ownerId': '1234', 'productList': [{'sku': '12345r', 'quantity': 24}, {'sku': 'asf', 'quantity': 6}]}\n"
     ]
    },
    {
     "data": {
      "text/plain": [
       "{'basketId': '0987654321',\n",
       " 'creationTime': 1608824784.046022,\n",
       " 'basketName': 'hello',\n",
       " 'ownerId': '1234',\n",
       " 'productList': [{'sku': '12345r', 'quantity': 24},\n",
       "  {'sku': 'asf', 'quantity': 6}]}"
      ]
     },
     "execution_count": 73,
     "metadata": {},
     "output_type": "execute_result"
    }
   ],
   "source": [
    "items = [\n",
    "  {'sku': '12345r', 'quantity': 12},\n",
    "  {'sku': 'asf', 'quantity': 3}\n",
    "  \n",
    "]\n",
    "browser.basket.addToBasket(basketId='0987654321', items = items)"
   ]
  },
  {
   "cell_type": "markdown",
   "metadata": {},
   "source": [
    "### update quantity in the basket\n",
    "ignores the values previously in the basket and set the new values"
   ]
  },
  {
   "cell_type": "code",
   "execution_count": 77,
   "metadata": {},
   "outputs": [],
   "source": [
    "#export\n",
    "@dataclass_json\n",
    "@dataclass\n",
    "class Update:\n",
    "  basketId:str \n",
    "  ownerId:Optional[str] = field(default_factory=str)\n",
    "  items:List[Item] = field(default_factory=list)\n",
    "@add_class_method(Basket)\n",
    "def update(self, basketId:str, ownerId:str, items:List[Item]):\n",
    "  payload = Update(basketId=basketId, ownerId=ownerId, items=items).to_dict()\n",
    "  return self.generalInvoke(path='update', payload=payload)\n"
   ]
  },
  {
   "cell_type": "code",
   "execution_count": 79,
   "metadata": {},
   "outputs": [
    {
     "name": "stdout",
     "output_type": "stream",
     "text": [
      "function successful {'basketId': '0987654321', 'creationTime': 1608824784.046022, 'basketName': 'hello', 'ownerId': '1234', 'productList': [{'sku': '12345r', 'quantity': 12}, {'sku': 'asf', 'quantity': 3}]}\n"
     ]
    },
    {
     "data": {
      "text/plain": [
       "{'basketId': '0987654321',\n",
       " 'creationTime': 1608824784.046022,\n",
       " 'basketName': 'hello',\n",
       " 'ownerId': '1234',\n",
       " 'productList': [{'sku': '12345r', 'quantity': 12},\n",
       "  {'sku': 'asf', 'quantity': 3}]}"
      ]
     },
     "execution_count": 79,
     "metadata": {},
     "output_type": "execute_result"
    }
   ],
   "source": [
    "items = [\n",
    "  {'sku': '12345r', 'quantity': 12},\n",
    "  {'sku': 'asf', 'quantity': 3}\n",
    "]\n",
    "browser.basket.update(basketId='0987654321', ownerId= '1234', items = items)"
   ]
  },
  {
   "cell_type": "code",
   "execution_count": 23,
   "metadata": {},
   "outputs": [],
   "source": [
    "@add_method(Order)\n",
    "def createOrder(self, userId:str, skus:[str]):\n",
    "  self.orderId = 'randomOrderId'\n",
    "  print(f'created order {self.orderId}')"
   ]
  },
  {
   "cell_type": "code",
   "execution_count": 24,
   "metadata": {},
   "outputs": [
    {
     "name": "stdout",
     "output_type": "stream",
     "text": [
      "created order randomOrderId\n"
     ]
    }
   ],
   "source": [
    "browser.order.createOrder(userId='123', skus = ['123', '123'])"
   ]
  },
  {
   "cell_type": "code",
   "execution_count": 21,
   "metadata": {},
   "outputs": [],
   "source": [
    "@add_method(Order)\n",
    "def checkOut(self, skus:[str]):\n",
    "  print(f'add {skus} to order {self.orderId}')\n",
    "  "
   ]
  },
  {
   "cell_type": "code",
   "execution_count": 22,
   "metadata": {},
   "outputs": [
    {
     "name": "stdout",
     "output_type": "stream",
     "text": [
      "add ['0000009', '9999913'] to order\n"
     ]
    }
   ],
   "source": [
    "browser.order.checkOut(['0000009', '9999913'])"
   ]
  },
  {
   "cell_type": "markdown",
   "metadata": {},
   "source": [
    "## Get images"
   ]
  },
  {
   "cell_type": "code",
   "execution_count": 36,
   "metadata": {},
   "outputs": [],
   "source": [
    "def showImage(im: Image):\n",
    "  width, height = im.size\n",
    "  return im.resize((int(100* width/height),100))"
   ]
  },
  {
   "cell_type": "code",
   "execution_count": 37,
   "metadata": {},
   "outputs": [],
   "source": [
    "@add_method(Browser)\n",
    "def getLargeImage(self, sku:str)->Image:\n",
    "  url = 'http://d19oj5aeuefgv.cloudfront.net'\n",
    "  imageContent = requests.get(f'{url}/{sku}').content\n",
    "  return Image.open(BytesIO(imageContent),formats=['PNG'])"
   ]
  },
  {
   "cell_type": "code",
   "execution_count": 38,
   "metadata": {},
   "outputs": [
    {
     "name": "stdout",
     "output_type": "stream",
     "text": [
      "CPU times: user 7.24 ms, sys: 0 ns, total: 7.24 ms\n",
      "Wall time: 33 ms\n",
      "image is size (720, 922)\n"
     ]
    },
    {
     "data": {
      "image/png": "[encoded data removed]",
      "text/plain": [
       "<PIL.Image.Image image mode=RGBA size=78x100 at 0x7F179E511340>"
      ]
     },
     "execution_count": 38,
     "metadata": {},
     "output_type": "execute_result"
    }
   ],
   "source": [
    "sku = '0189194'\n",
    "%time largeImage:Image = browser.getLargeImage(sku)\n",
    "print(f'image is size {largeImage.size}')\n",
    "showImage(largeImage)\n"
   ]
  },
  {
   "cell_type": "code",
   "execution_count": 27,
   "metadata": {},
   "outputs": [],
   "source": [
    "@add_method(Browser)\n",
    "def getSmallImage(self, sku:str)->Image:\n",
    "  url = 'https://d1vl5j0v241n75.cloudfront.net'\n",
    "  imageContent = requests.get(f'{url}/{sku}').content\n",
    "  return Image.open(BytesIO(imageContent),formats=['PNG'])"
   ]
  },
  {
   "cell_type": "code",
   "execution_count": 39,
   "metadata": {},
   "outputs": [
    {
     "name": "stdout",
     "output_type": "stream",
     "text": [
      "CPU times: user 13.7 ms, sys: 0 ns, total: 13.7 ms\n",
      "Wall time: 32.9 ms\n"
     ]
    },
    {
     "data": {
      "image/png": "[encoded data removed]",
      "text/plain": [
       "<PIL.Image.Image image mode=RGBA size=78x100 at 0x7F179E5112B0>"
      ]
     },
     "execution_count": 39,
     "metadata": {},
     "output_type": "execute_result"
    }
   ],
   "source": [
    "%time smallImage = browser.getSmallImage(sku)\n",
    "showImage(smallImage)"
   ]
  },
  {
   "cell_type": "code",
   "execution_count": null,
   "metadata": {},
   "outputs": [],
   "source": []
  },
  {
   "cell_type": "code",
   "execution_count": null,
   "metadata": {},
   "outputs": [],
   "source": []
  }
 ],
 "metadata": {
  "kernelspec": {
   "display_name": "python38",
   "language": "python",
   "name": "python38"
  },
  "language_info": {
   "codemirror_mode": {
    "name": "ipython",
    "version": 3
   },
   "file_extension": ".py",
   "mimetype": "text/x-python",
   "name": "python",
   "nbconvert_exporter": "python",
   "pygments_lexer": "ipython3",
   "version": "3.8.6"
  }
 },
 "nbformat": 4,
 "nbformat_minor": 4
}
