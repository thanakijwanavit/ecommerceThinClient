{
 "cells": [
  {
   "cell_type": "code",
   "execution_count": null,
   "metadata": {},
   "outputs": [],
   "source": [
    "# default_exp shopping"
   ]
  },
  {
   "cell_type": "markdown",
   "metadata": {},
   "source": [
    "# Shopping\n",
    "simulates shopping with python code. \n",
    "this is designed to test the backend and allow conversion to frontend"
   ]
  },
  {
   "cell_type": "code",
   "execution_count": 3,
   "metadata": {},
   "outputs": [
    {
     "name": "stdout",
     "output_type": "stream",
     "text": [
      "missing environment variable 'INVENTORY_BUCKET_NAME' in Database s3 NB\n",
      "missing environment variable 'INVENTORY_BUCKET_NAME' in query NB\n",
      "missing environment variable 'INPUT_BUCKET_NAME' in update NB\n",
      "error, missing environment variables \n",
      "'DATABASE_TABLE_NAME'\n",
      "dax endpoint missing 'DAX_ENDPOINT'\n"
     ]
    }
   ],
   "source": [
    "#export\n",
    "from villaProductSdk.products import ProductSdk\n",
    "from villaBackendSdk.basket import BasketSdk\n",
    "from villaProductDatabase import database\n",
    "from villaProductDatabase.schema import Response, Event\n",
    "from s3bz.s3bz import S3\n",
    "import json\n",
    "\n",
    "import pandas as pd"
   ]
  },
  {
   "cell_type": "markdown",
   "metadata": {},
   "source": [
    "## tests"
   ]
  },
  {
   "cell_type": "markdown",
   "metadata": {},
   "source": [
    "### Search for items"
   ]
  },
  {
   "cell_type": "code",
   "execution_count": 4,
   "metadata": {},
   "outputs": [],
   "source": [
    "from requests import post, get\n",
    "def search(searchQuery:str):\n",
    "  endpoint = 'https://8av9li9v82.execute-api.ap-southeast-1.amazonaws.com/Prod/orismaSearch/'\n",
    "  queries = {\n",
    "    'data_t3':searchQuery\n",
    "  }\n",
    "  response = get(endpoint, params=queries)\n",
    "  return response.json()"
   ]
  },
  {
   "cell_type": "code",
   "execution_count": 5,
   "metadata": {},
   "outputs": [
    {
     "name": "stdout",
     "output_type": "stream",
     "text": [
      "CPU times: user 3 µs, sys: 0 ns, total: 3 µs\n",
      "Wall time: 7.15 µs\n"
     ]
    },
    {
     "data": {
      "text/plain": [
       "['0209667',\n",
       " '0178705',\n",
       " '0207825',\n",
       " '0208965',\n",
       " '0229543',\n",
       " '0229471',\n",
       " '0209997',\n",
       " '0212434',\n",
       " '0207999',\n",
       " '0197272']"
      ]
     },
     "execution_count": 5,
     "metadata": {},
     "output_type": "execute_result"
    }
   ],
   "source": [
    "%time\n",
    "result = search('strawberry')\n",
    "resultList = pd.DataFrame(result)['pr_code'].to_list()\n",
    "resultList[:10]"
   ]
  },
  {
   "cell_type": "code",
   "execution_count": 6,
   "metadata": {},
   "outputs": [],
   "source": [
    "sdk = ProductSdk(branch = 'dev-manual', user=None, pw=None)"
   ]
  },
  {
   "cell_type": "code",
   "execution_count": 7,
   "metadata": {},
   "outputs": [
    {
     "name": "stderr",
     "output_type": "stream",
     "text": [
      "ERROR:root:error parsing body, perhaps there is no body in response      response is {'errorMessage': \"'dict' object has no attribute 'data'\", 'errorType': 'AttributeError', 'stackTrace': ['  File \"/var/task/villaProductDatabase/database.py\", line 167, in lambdaSingleQuery\\n    result = ProductDatabase.singleProductQuery({key:value}).data\\n']}\n",
      "Traceback (most recent call last):\n",
      "  File \"/home/ec2-user/anaconda3/envs/python38/lib/python3.8/site-packages/villaProductSdk/products.py\", line 47, in returnLambdaResponse\n",
      "    return Response.fromDict(lambdaResponse).body\n",
      "  File \"/home/ec2-user/anaconda3/envs/python38/lib/python3.8/site-packages/villaProductSdk/schema.py\", line 27, in fromDict\n",
      "    body = dictInput.pop('body')\n",
      "KeyError: 'body'\n",
      "ERROR:root:{'errorMessage': \"'dict' object has no attribute 'data'\", 'errorType': 'AttributeError', 'stackTrace': ['  File \"/var/task/villaProductDatabase/database.py\", line 167, in lambdaSingleQuery\\n    result = ProductDatabase.singleProductQuery({key:value}).data\\n']}\n"
     ]
    }
   ],
   "source": [
    "sdk.querySingleProduct(resultList[0])"
   ]
  },
  {
   "cell_type": "code",
   "execution_count": 9,
   "metadata": {},
   "outputs": [
    {
     "data": {
      "text/plain": [
       "{'cprcode': '0117939',\n",
       " 'iprcode': '0117939',\n",
       " 'oprcode': '0117939',\n",
       " 'ordertype': 'Y',\n",
       " 'pr_abb': 'COLES TRADITIONAL CH',\n",
       " 'pr_active': 'Y',\n",
       " 'pr_cgcode': '98',\n",
       " 'pr_code': '0117939',\n",
       " 'pr_dpcode': '28',\n",
       " 'pr_engname': 'COLES TRADITIONAL CHRISTMAS PUDDING 454G',\n",
       " 'pr_ggcode': '002',\n",
       " 'pr_market': 'COLES TRADITIONAL CHRISTMAS PU',\n",
       " 'pr_name': 'COLES TRADITIONAL CHRISTMAS PUDDING 454G.',\n",
       " 'pr_puqty': '6.00',\n",
       " 'pr_sa_method': '1',\n",
       " 'pr_sucode1': 'F1239',\n",
       " 'pr_suref3': 'S',\n",
       " 'prtype': 'I',\n",
       " 'psqty': '1',\n",
       " 'pstype': '1',\n",
       " 'pr_country_th': '',\n",
       " 'pr_country_en': 'United Kingdom',\n",
       " 'pr_keyword_th': '',\n",
       " 'pr_keyword_en': '',\n",
       " 'pr_filter_th': 'Seasonal,Crisps  Snacks,Grocery',\n",
       " 'pr_filter_en': 'Seasonal,Crisps  Snacks,Grocery',\n",
       " 'online_category_l1_th': 'สินค้าเทศกาล',\n",
       " 'online_category_l1_en': 'Festive Items',\n",
       " 'online_category_l2_th': 'สินค้าคริสต์มาสและปีใหม่',\n",
       " 'online_category_l2_en': 'Christmas & New Year',\n",
       " 'online_category_l3_th': '',\n",
       " 'online_category_l3_en': '',\n",
       " 'villa_category_l1_en': 'Dry Grocery',\n",
       " 'villa_category_l2_en': 'Grocery',\n",
       " 'villa_category_l3_en': 'Cookies & Snacks',\n",
       " 'villa_category_l4_en': 'Biscuits & Crackers',\n",
       " 'content_en': '0117939 Coles Traditional Christmas Pudding 450G',\n",
       " 'content_th': 'COLES TRADITIONAL CHRISTMAS PUDDING 450G.',\n",
       " 'hema_brand_th': '',\n",
       " 'hema_brand_en': '',\n",
       " 'hema_sizedesc': '',\n",
       " 'pr_brand_en': '',\n",
       " 'pr_brand_th': '',\n",
       " 'pr_online_name_en': 'Coles Traditional Christmas Pudding 450G',\n",
       " 'pr_online_name_th': 'COLES TRADITIONAL CHRISTMAS PUDDING 450G.',\n",
       " 'hema_name_en': 'Coles Traditional Christmas Pudding 450G',\n",
       " 'hema_name_th': 'COLES TRADITIONAL CHRISTMAS PUDDING 450G.',\n",
       " 'pr_name_en': 'COLES TRADITIONAL CHRISTMAS PUDDING 450G',\n",
       " 'pr_name_th': 'COLES TRADITIONAL CHRISTMAS PUDDING 450G.',\n",
       " 'sort_weight': 0}"
      ]
     },
     "execution_count": 9,
     "metadata": {},
     "output_type": "execute_result"
    }
   ],
   "source": [
    "sdk.querySingleProduct('0117939')"
   ]
  },
  {
   "cell_type": "code",
   "execution_count": null,
   "metadata": {},
   "outputs": [],
   "source": []
  }
 ],
 "metadata": {
  "kernelspec": {
   "display_name": "python38",
   "language": "python",
   "name": "python38"
  },
  "language_info": {
   "codemirror_mode": {
    "name": "ipython",
    "version": 3
   },
   "file_extension": ".py",
   "mimetype": "text/x-python",
   "name": "python",
   "nbconvert_exporter": "python",
   "pygments_lexer": "ipython3",
   "version": "3.8.6"
  }
 },
 "nbformat": 4,
 "nbformat_minor": 4
}
