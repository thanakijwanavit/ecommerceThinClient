{
 "cells": [
  {
   "cell_type": "code",
   "execution_count": 3,
   "metadata": {},
   "outputs": [],
   "source": [
    "# default_exp migration"
   ]
  },
  {
   "cell_type": "code",
   "execution_count": 3,
   "metadata": {},
   "outputs": [
    {
     "name": "stdout",
     "output_type": "stream",
     "text": [
      "/home/ec2-user/anaconda3/envs/JupyterSystemEnv/bin/python\n",
      "Python 3.6.11\n"
     ]
    }
   ],
   "source": [
    "!which python\n",
    "!python --version"
   ]
  },
  {
   "cell_type": "code",
   "execution_count": 1,
   "metadata": {},
   "outputs": [
    {
     "ename": "ImportError",
     "evalue": "No module named villaProductSdk.products",
     "output_type": "error",
     "traceback": [
      "\u001b[0;31m\u001b[0m",
      "\u001b[0;31mImportError\u001b[0mTraceback (most recent call last)",
      "\u001b[0;32m<ipython-input-1-96eb829db5b3>\u001b[0m in \u001b[0;36m<module>\u001b[0;34m()\u001b[0m\n\u001b[0;32m----> 1\u001b[0;31m \u001b[0;32mfrom\u001b[0m \u001b[0mvillaProductSdk\u001b[0m\u001b[0;34m.\u001b[0m\u001b[0mproducts\u001b[0m \u001b[0;32mimport\u001b[0m \u001b[0mProductSdk\u001b[0m\u001b[0;34m\u001b[0m\u001b[0m\n\u001b[0m\u001b[1;32m      2\u001b[0m \u001b[0;32mfrom\u001b[0m \u001b[0mnicHelper\u001b[0m\u001b[0;34m.\u001b[0m\u001b[0mdictUtil\u001b[0m \u001b[0;32mimport\u001b[0m \u001b[0mprintDict\u001b[0m\u001b[0;34m\u001b[0m\u001b[0m\n",
      "\u001b[0;31mImportError\u001b[0m: No module named villaProductSdk.products"
     ]
    }
   ],
   "source": [
    "from villaProductSdk.products import ProductSdk\n",
    "from nicHelper.dictUtil import printDict"
   ]
  },
  {
   "cell_type": "code",
   "execution_count": 77,
   "metadata": {},
   "outputs": [],
   "source": [
    "psdk = ProductSdk(branch='dev-manual')"
   ]
  },
  {
   "cell_type": "code",
   "execution_count": 78,
   "metadata": {},
   "outputs": [],
   "source": [
    "# Get all products"
   ]
  },
  {
   "cell_type": "code",
   "execution_count": 79,
   "metadata": {},
   "outputs": [
    {
     "name": "stdout",
     "output_type": "stream",
     "text": [
      "CPU times: user 1.01 s, sys: 0 ns, total: 1.01 s\n",
      "Wall time: 3.17 s\n"
     ]
    },
    {
     "data": {
      "text/plain": [
       "('0217153',\n",
       " {'0217153': {'cprcode': '0217153',\n",
       "   'iprcode': '0217153',\n",
       "   'oprcode': '0217153',\n",
       "   'ordertype': 'Y',\n",
       "   'pr_abb': 'COCOA LOCO MILK CHOC',\n",
       "   'pr_active': 'Y',\n",
       "   'pr_cgcode': '98',\n",
       "   'pr_code': '0217153',\n",
       "   'pr_dpcode': '28',\n",
       "   'pr_engname': 'COCOA LOCO MILK CHOCOLATE OWL LOLLY 26G.',\n",
       "   'pr_ggcode': '003',\n",
       "   'pr_market': 'COCOA LOCO MILK CHOCOLATE OWL',\n",
       "   'pr_name': 'COCOA LOCO MILK CHOCOLATE OWL LOLLY 26G.',\n",
       "   'pr_puqty': '24',\n",
       "   'pr_sa_method': '1',\n",
       "   'pr_sucode1': 'F1222',\n",
       "   'pr_suref3': 'S',\n",
       "   'prtype': 'I',\n",
       "   'psqty': '1',\n",
       "   'pstype': '1'}})"
      ]
     },
     "execution_count": 79,
     "metadata": {},
     "output_type": "execute_result"
    }
   ],
   "source": [
    "%%time\n",
    "psdk.printFirst(psdk.allQuery())"
   ]
  },
  {
   "cell_type": "markdown",
   "metadata": {},
   "source": [
    "## define dataclass for original dynamodb"
   ]
  },
  {
   "cell_type": "code",
   "execution_count": 89,
   "metadata": {},
   "outputs": [],
   "source": [
    "from pynamodb.models import Model\n",
    "from pynamodb.attributes import UnicodeAttribute, JSONAttribute\n",
    "\n",
    "class ProductMaster(Model):\n",
    "  class Meta:\n",
    "    table_name= 'villa-product-master'\n",
    "    region = 'ap-southeast-1'\n",
    "  iprcode = UnicodeAttribute(hash_key=True)\n",
    "  cprcode = UnicodeAttribute(range_key=True)\n",
    "  details = JSONAttribute()"
   ]
  },
  {
   "cell_type": "markdown",
   "metadata": {},
   "source": [
    "### Get all items"
   ]
  },
  {
   "cell_type": "code",
   "execution_count": 117,
   "metadata": {},
   "outputs": [
    {
     "name": "stdout",
     "output_type": "stream",
     "text": [
      "68978\n",
      "[{'cprcode': '0140942', 'iprcode': '0140942', 'oprcode': '0140942', 'ordertype': 'Y', 'pr_abb': 'FRAGATA OLIVE POMACE', 'pr_active': 'Y', 'pr_cgcode': '01', 'pr_code': '0140942', 'pr_dpcode': '08', 'pr_engname': 'FRAGATA OLIVE POMACE OIL 2 LITE', 'pr_ggcode': '008', 'pr_market': 'FRAGATA น้ำมันมะกอกธรรมชาติผสม', 'pr_name': 'FRAGATA น้ำมันมะกอกธรรมชาติ-กรรมวิธี 2 ลิตร', 'pr_puqty': '8.00', 'pr_sa_method': '1', 'pr_sucode1': '1036', 'pr_suref3': 'A', 'prtype': 'I', 'psqty': '1', 'pstype': '1', 'pr_country_th': '', 'pr_country_en': '', 'pr_keyword_th': '', 'pr_keyword_en': 'cooking oil, oil cooking,Fragata Olive Pomace Oil, Fragata, Olive purity pomace oil, Omace oil olive pomace oil, cooking olive pomace oil, olive pomace oil cooking\\r\\n', 'pr_filter_th': 'Oils  Vinegar,Grocery', 'pr_filter_en': 'Oils  Vinegar,Grocery', 'online_category_l1_th': 'สินค้าบริโภค', 'online_category_l1_en': 'Grocery', 'online_category_l2_th': 'น้ำมันและน้ำส้มสายชู', 'online_category_l2_en': 'Oils & Vinegar', 'online_category_l3_th': '', 'online_category_l3_en': '', 'villa_category_l1_en': 'Dry Grocery', 'villa_category_l2_en': 'Grocery', 'villa_category_l3_en': 'Oil & Seasoning & Sauce', 'villa_category_l4_en': 'Cooking Oil', 'content_en': '0140942 Fragata Olive Pomace Oil 2L cooking oil, oil cooking,Fragata Olive Pomace Oil, Fragata, Olive purity pomace oil, Omace oil olive pomace oil, cooking olive pomace oil, olive pomace oil cooking\\r\\n', 'content_th': 'Fragata Olive Pomace Oil 2L', 'hema_brand_th': 'Fragata', 'hema_brand_en': 'Fragata', 'hema_sizedesc': '2L', 'pr_brand_en': 'Fragata', 'pr_brand_th': 'Fragata', 'pr_online_name_en': 'Fragata Olive Pomace Oil 2L', 'pr_online_name_th': 'Fragata Olive Pomace Oil 2L', 'hema_name_en': 'Olive Pomace Oil', 'hema_name_th': 'Olive Pomace Oil', 'pr_name_en': 'FRAGATA OLIVE POMACE OIL 2 LITE', 'pr_name_th': 'FRAGATA น้ำมันมะกอกธรรมชาติ-กรรมวิธี 2 ลิตร', 'pr_barcode': '8410134118601', 'pr_barcode2': '841013411860', 'sort_weight': '0'}, {'cprcode': '0223750', 'iprcode': '0223750', 'oprcode': '0223750', 'ordertype': 'Y', 'pr_abb': 'SAMYANG HOT CHICKHEN', 'pr_active': 'Y', 'pr_cgcode': '04', 'pr_code': '0223750', 'pr_dpcode': '03', 'pr_engname': 'SAMYANG HOT CHICKHEN CARBONARA130G', 'pr_ggcode': '002', 'pr_market': 'SAMYANG ฮอตชิคเค่น คาโบนาร่า 1', 'pr_name': 'SAMYANG ฮอตชิคเค่น คาโบนาร่า 130กรัม', 'pr_puqty': '40.00', 'pr_sa_method': '1', 'pr_sucode1': '2551', 'pr_suref3': 'A', 'prtype': 'I', 'psqty': '1', 'pstype': '1', 'pr_country_th': '', 'pr_country_en': 'South Korea', 'pr_keyword_th': '', 'pr_keyword_en': 'samyang,instant noodle,noodle,korean noodle,korean,instant noodles', 'pr_filter_th': 'Grocery,Rice  Pasta  Beans', 'pr_filter_en': 'Grocery,Rice  Pasta  Beans', 'online_category_l1_th': 'สินค้าบริโภค', 'online_category_l1_en': 'Grocery', 'online_category_l2_th': 'ข้าว เส้นพาสต้า และ ถั่ว', 'online_category_l2_en': 'Rice & Pasta & Beans', 'online_category_l3_th': '', 'online_category_l3_en': '', 'villa_category_l1_en': 'Dry Grocery', 'villa_category_l2_en': 'Grocery', 'villa_category_l3_en': 'Rice & Noodles & Japanese', 'villa_category_l4_en': 'Noodles', 'content_en': '0223750 Samyang Hot Chickhen Carbonarag 130g samyang,instant noodle,noodle,korean noodle,korean,instant noodles', 'content_th': 'Samyang Hot Chickhen Carbonarag 130g', 'hema_brand_th': 'Samyang', 'hema_brand_en': 'Samyang', 'hema_sizedesc': '130g', 'pr_brand_en': '', 'pr_brand_th': '', 'pr_online_name_en': 'Samyang Hot Chickhen Carbonarag 130g', 'pr_online_name_th': 'Samyang Hot Chickhen Carbonarag 130g', 'hema_name_en': 'Hot Chickhen Carbonarag', 'hema_name_th': 'Hot Chickhen Carbonarag', 'pr_name_en': 'SAMYANG HOT CHICKHEN CARBONARA130G', 'pr_name_th': 'SAMYANG ฮอตชิคเค่น คาโบนาร่า 130กรัม', 'pr_barcode': '8801073113893', 'pr_barcode2': '880107311389', 'sort_weight': '0'}]\n"
     ]
    }
   ],
   "source": [
    "items = [item.details for item in ProductMaster.scan(limit=100000)]\n",
    "print(len(items))\n",
    "print(items[:2])"
   ]
  },
  {
   "cell_type": "markdown",
   "metadata": {},
   "source": [
    "## Get rid of error item"
   ]
  },
  {
   "cell_type": "code",
   "execution_count": 118,
   "metadata": {},
   "outputs": [],
   "source": [
    "def replaceEmptystringWithNone(inputListOfDict:list):\n",
    "  newList = []\n",
    "  for item in inputListOfDict:\n",
    "    newItem = {k:v if v else 'none' for k,v in item.items()}\n",
    "    newList.append(newItem)\n",
    "  return newList\n",
    "    "
   ]
  },
  {
   "cell_type": "code",
   "execution_count": 119,
   "metadata": {},
   "outputs": [
    {
     "data": {
      "text/plain": [
       "68978"
      ]
     },
     "execution_count": 119,
     "metadata": {},
     "output_type": "execute_result"
    }
   ],
   "source": [
    "%%time\n",
    "filledItems = replaceEmptystringWithNone(items)\n",
    "len(filledItems)"
   ]
  },
  {
   "cell_type": "markdown",
   "metadata": {},
   "source": [
    "## update items with s3"
   ]
  },
  {
   "cell_type": "code",
   "execution_count": 121,
   "metadata": {},
   "outputs": [
    {
     "data": {
      "text/plain": [
       "'successfully sent event, please watch your slack'"
      ]
     },
     "execution_count": 121,
     "metadata": {},
     "output_type": "execute_result"
    }
   ],
   "source": [
    "%%time\n",
    "psdk.updateWithS3(filledItems, invocationType='Event')"
   ]
  },
  {
   "cell_type": "code",
   "execution_count": null,
   "metadata": {},
   "outputs": [],
   "source": []
  }
 ],
 "metadata": {
  "kernelspec": {
   "display_name": "python38",
   "language": "python",
   "name": "python38"
  },
  "language_info": {
   "codemirror_mode": {
    "name": "ipython",
    "version": 3
   },
   "file_extension": ".py",
   "mimetype": "text/x-python",
   "name": "python",
   "nbconvert_exporter": "python",
   "pygments_lexer": "ipython3",
   "version": "3.7.6"
  }
 },
 "nbformat": 4,
 "nbformat_minor": 4
}
